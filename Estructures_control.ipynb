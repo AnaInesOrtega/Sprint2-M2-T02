{
 "cells": [
  {
   "cell_type": "markdown",
   "id": "bf7101d0",
   "metadata": {},
   "source": [
    "# Tasca M2 T02\n",
    "\n",
    "## Exercici 1\n",
    "\n",
    "L'exercici consisteix a crear un programa que et classifiqui una variable numèrica en funció de l’escala Suspès/Aprovat/Notable/Excel·lent.\n",
    "\n",
    "Recorda que Suspès < 5, Aprovat > 5 i < 7, Notable > 7 i < 9 i Excel·lent > 9."
   ]
  },
  {
   "cell_type": "code",
   "execution_count": 43,
   "id": "5bc883b7",
   "metadata": {},
   "outputs": [
    {
     "name": "stdout",
     "output_type": "stream",
     "text": [
      "Obtuviste un: Suspendido\n",
      "Obtuviste un: Aprobado\n",
      "Obtuviste un: Notable\n",
      "Obtuviste un: Excelente\n",
      "Obtuviste un: Indique una nota válida.\n"
     ]
    }
   ],
   "source": [
    "\n",
    " def notas (nota):\n",
    "    if (nota < 5):\n",
    "        return \"Suspendido\"\n",
    "    elif (nota >= 5 and nota < 7):\n",
    "        return \"Aprobado\"\n",
    "    elif (nota >= 7 and nota <= 9):\n",
    "        return \"Notable\"\n",
    "    elif(nota > 9 and nota <= 10):\n",
    "        return \"Excelente\"\n",
    "    else: \n",
    "        return \"Indique una nota válida.\"\n",
    " \n",
    "\n",
    " print(f'Obtuviste un: {notas(4)}')\n",
    "print(f'Obtuviste un: {notas(6)}')\n",
    " print(f'Obtuviste un: {notas(8)}')\n",
    "print(f'Obtuviste un: {notas(9.5)}')\n",
    " print(f'Obtuviste un: {notas(11)}')"
   ]
  },
  {
   "cell_type": "markdown",
   "id": "298bb837",
   "metadata": {},
   "source": [
    "## Exercici 2\n",
    "\n",
    "Utilitzant el següent tutorial crea un programa que et pregunti dos números. T’ha de mostrar un missatge dient si el primer és més gran, el segon és més gran o són iguals."
   ]
  },
  {
   "cell_type": "code",
   "execution_count": 44,
   "id": "5e713d40",
   "metadata": {},
   "outputs": [
    {
     "name": "stdout",
     "output_type": "stream",
     "text": [
      "Ingrese un número: 3\n",
      "Ingrese otro número: 4\n",
      "El número 4 es mayor que el número 3\n"
     ]
    }
   ],
   "source": [
    "respuesta = \"\"\n",
    "num1 = input(\"Ingrese un número: \")\n",
    "num2 = input(\"Ingrese otro número: \")\n",
    "def numeros (num1, num2):\n",
    "    if (num1 > num2):\n",
    "        return f'El número {num1} es mayor que el número {num2}'\n",
    "    elif (num1 < num2):\n",
    "        return f'El número {num2} es mayor que el número {num1}'\n",
    "    else: \n",
    "        return f'El número {num1} es igual al número {num2}'\n",
    "print(numeros(num1,num2))"
   ]
  },
  {
   "cell_type": "markdown",
   "id": "e109b961",
   "metadata": {},
   "source": [
    "## Exercici 3\n",
    "\n",
    "Crea un programa que et pregunti el teu nom, i et demani un número. Si el número és 0, hauria de mostrar un missatge d’error. En cas contrari, hauria de mostrar el nom repetit tants cops com indiqui el número. Per exemple, “Joan Joan Joan”."
   ]
  },
  {
   "cell_type": "code",
   "execution_count": 13,
   "id": "1824cc41",
   "metadata": {},
   "outputs": [
    {
     "name": "stdout",
     "output_type": "stream",
     "text": [
      "Cuál es tu nombre: Ana \n",
      "Ingresa un número: 3\n",
      " Ana Ana Ana \n"
     ]
    }
   ],
   "source": [
    "name = input (\"Cuál es tu nombre: \")\n",
    "num = int(input (\"Ingresa un número: \"))\n",
    "def repeticionName (name, num):\n",
    "    if (num == 0):\n",
    "        print(\"El número ingresado es incorrecto\") \n",
    "    else: #mostrar el nombre tantas veces como el nro elegido \n",
    "         return f' {name * int(num)}'\n",
    "print(repeticionName(name, num))"
   ]
  },
  {
   "cell_type": "markdown",
   "id": "6bab3ac1",
   "metadata": {},
   "source": [
    "## Exercici 4\n",
    "\n",
    "Crea un programa que donada una llista qualsevol, et digui si és simètrica o no. Si ho és, que et digui quants elements té."
   ]
  },
  {
   "cell_type": "code",
   "execution_count": 45,
   "id": "77cf657c",
   "metadata": {},
   "outputs": [
    {
     "name": "stdout",
     "output_type": "stream",
     "text": [
      "La lista es simétrica y tiene 6 elementos\n",
      "La lista no es simétrica\n"
     ]
    }
   ],
   "source": [
    "list_1 = [1,2,3,3,2,1]\n",
    "list_2 = [2,4,5,7,6,4,7]\n",
    "\n",
    "def simetria(list_1):\n",
    "    if list_1 == list(reversed(list_1)):\n",
    "        print(f'La lista es simétrica y tiene {len(list_1)} elementos')\n",
    "    else:\n",
    "        print(\"La lista no es simétrica\")\n",
    "\n",
    "simetria(list_1)\n",
    "simetria(list_2)\n",
    " \n"
   ]
  },
  {
   "cell_type": "markdown",
   "id": "d1e65a3a",
   "metadata": {},
   "source": [
    "## Exercici 5\n",
    "Crea un programa que donada una llista, et digui quants números coincideixen amb la seva posició. Per exemple [3,4,2,0,2,3,6] el 2 i el 6 coincideixen."
   ]
  },
  {
   "cell_type": "code",
   "execution_count": 42,
   "id": "f6f96def",
   "metadata": {},
   "outputs": [
    {
     "name": "stdout",
     "output_type": "stream",
     "text": [
      "El número 0 coincide con su posición\n",
      "El número 1 coincide con su posición\n",
      "El número 2 coincide con su posición\n",
      "El número 3 coincide con su posición\n",
      "El número 4 coincide con su posición\n",
      "Coinciden 5 números en total\n",
      "\n",
      "El número 2 coincide con su posición\n",
      "El número 4 coincide con su posición\n",
      "El número 6 coincide con su posición\n",
      "Coinciden 3 números en total\n",
      "\n"
     ]
    }
   ],
   "source": [
    "lista1 = [0,1,2,3,4]\n",
    "lista2 = [1,3,2,6,4,7,6]\n",
    "\n",
    "#lista2\n",
    "def coincidencia (lista):\n",
    "    coincideNum = 0\n",
    "    for x in range(len(lista)):\n",
    "        if x == lista[x]:\n",
    "            print(f'El número {x} coincide con su posición')\n",
    "            coincideNum += 1\n",
    "    #return coincide(lista)\n",
    "    print (f'Coinciden {coincideNum} números en total')\n",
    "    print()\n",
    "    \n",
    "coincidencia(lista1)\n",
    "coincidencia(lista2)"
   ]
  }
 ],
 "metadata": {
  "hide_input": false,
  "kernelspec": {
   "display_name": "Python 3 (ipykernel)",
   "language": "python",
   "name": "python3"
  },
  "language_info": {
   "codemirror_mode": {
    "name": "ipython",
    "version": 3
   },
   "file_extension": ".py",
   "mimetype": "text/x-python",
   "name": "python",
   "nbconvert_exporter": "python",
   "pygments_lexer": "ipython3",
   "version": "3.9.12"
  },
  "nbTranslate": {
   "displayLangs": [
    "*"
   ],
   "hotkey": "alt-t",
   "langInMainMenu": true,
   "sourceLang": "en",
   "targetLang": "fr",
   "useGoogleTranslate": true
  },
  "toc": {
   "base_numbering": 1,
   "nav_menu": {},
   "number_sections": true,
   "sideBar": true,
   "skip_h1_title": false,
   "title_cell": "Table of Contents",
   "title_sidebar": "Contents",
   "toc_cell": false,
   "toc_position": {},
   "toc_section_display": true,
   "toc_window_display": false
  },
  "varInspector": {
   "cols": {
    "lenName": 16,
    "lenType": 16,
    "lenVar": 40
   },
   "kernels_config": {
    "python": {
     "delete_cmd_postfix": "",
     "delete_cmd_prefix": "del ",
     "library": "var_list.py",
     "varRefreshCmd": "print(var_dic_list())"
    },
    "r": {
     "delete_cmd_postfix": ") ",
     "delete_cmd_prefix": "rm(",
     "library": "var_list.r",
     "varRefreshCmd": "cat(var_dic_list()) "
    }
   },
   "types_to_exclude": [
    "module",
    "function",
    "builtin_function_or_method",
    "instance",
    "_Feature"
   ],
   "window_display": false
  }
 },
 "nbformat": 4,
 "nbformat_minor": 5
}
